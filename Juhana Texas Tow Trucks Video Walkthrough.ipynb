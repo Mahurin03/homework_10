{
 "cells": [
  {
   "cell_type": "code",
   "execution_count": 1,
   "id": "2dd019a5",
   "metadata": {},
   "outputs": [],
   "source": [
    "#Walkthrough: https://www.youtube.com/watch?v=54zkYWa9uu0"
   ]
  },
  {
   "cell_type": "markdown",
   "id": "397810a4",
   "metadata": {},
   "source": [
    "Search for truck 006565500C"
   ]
  },
  {
   "cell_type": "code",
   "execution_count": 2,
   "id": "228b41ca",
   "metadata": {},
   "outputs": [],
   "source": [
    "from selenium import webdriver\n",
    "from selenium.webdriver.common.keys import Keys\n",
    "from selenium.webdriver.support.ui import Select\n",
    "from selenium.webdriver.support.ui import WebDriverWait"
   ]
  },
  {
   "cell_type": "code",
   "execution_count": 3,
   "id": "78eb8fbd",
   "metadata": {},
   "outputs": [],
   "source": [
    "from selenium.webdriver.common.by import By\n",
    "from selenium.webdriver.support import expected_conditions as EC\n",
    "from webdriver_manager.chrome import ChromeDriverManager"
   ]
  },
  {
   "cell_type": "code",
   "execution_count": 4,
   "id": "a507b4d3",
   "metadata": {},
   "outputs": [],
   "source": [
    "driver = webdriver.Chrome()"
   ]
  },
  {
   "cell_type": "markdown",
   "id": "0ba1f61d",
   "metadata": {},
   "source": [
    "What URL are we going to use? Not necessarily the launch page but the search result. Less clicking through.\n",
    "Result is here: https://www.tdlr.texas.gov/tools_search/mccs_display.asp?mcrnumber=006565500C\n",
    "Search is here: https://www.tdlr.texas.gov/tools_search/mccs_search.asp\n",
    "With search page on this occassion.\n"
   ]
  },
  {
   "cell_type": "markdown",
   "id": "8057d682",
   "metadata": {},
   "source": [
    "Why use Selenium? We don't have to. The site is weird if you use just requests. Scrape the page, displaying the \n",
    "The business name\n",
    "Phone number\n",
    "License status\n",
    "Physical address\n",
    "You should do. post requests by now\n",
    "\n",
    "For physicla address: ask me on the board and I'll give you a secred trick about the situations like this."
   ]
  },
  {
   "cell_type": "code",
   "execution_count": 33,
   "id": "f83ccee9",
   "metadata": {},
   "outputs": [],
   "source": [
    "driver.get('https://www.tdlr.texas.gov/tools_search')"
   ]
  },
  {
   "cell_type": "code",
   "execution_count": 6,
   "id": "bf6d29cd",
   "metadata": {},
   "outputs": [],
   "source": [
    "#find_element(By.XPATH, \"//*[@id=\"mcrbutton\"]\")"
   ]
  },
  {
   "cell_type": "code",
   "execution_count": 30,
   "id": "8b9f8f15",
   "metadata": {},
   "outputs": [],
   "source": [
    "#//*[@id=\"mcrdata\"]\n",
    "#use single quotes\n",
    "tdlr_input = driver.find_element(By.XPATH, '//*[@id=\"mcrdata\"]')\n",
    "#tdlr_input = driver.find_element_by_xpath('//*[@id=\"mcrdata\"]')\n",
    "tdlr_input\n",
    "tdlr_input.send_keys(\"006565500C\")"
   ]
  },
  {
   "cell_type": "code",
   "execution_count": 31,
   "id": "79b2bed9",
   "metadata": {},
   "outputs": [],
   "source": [
    "#//*[@id=\"submit3\"]\n",
    "search_button = driver.find_element(By.XPATH, '//*[@id=\"submit3\"]')\n",
    "search_button.click()"
   ]
  },
  {
   "cell_type": "code",
   "execution_count": 49,
   "id": "92b5e571",
   "metadata": {},
   "outputs": [
    {
     "data": {
      "text/plain": [
       "'A&NTOWINGLLC'"
      ]
     },
     "execution_count": 49,
     "metadata": {},
     "output_type": "execute_result"
    }
   ],
   "source": [
    "#//*[@id=\"t1\"]/tbody/tr/td/font/table[2]/tbody/tr[2]/td[1]\n",
    "business_name = driver.find_element(By.XPATH, \"//*[contains(text(), 'Name')]/..\")\n",
    "#think Python: remove name and strip of spaces\n",
    "business_name.text.replace('Name:', \"\").strip()"
   ]
  },
  {
   "cell_type": "code",
   "execution_count": 46,
   "id": "40e45229",
   "metadata": {},
   "outputs": [
    {
     "data": {
      "text/plain": [
       "'2106678546'"
      ]
     },
     "execution_count": 46,
     "metadata": {},
     "output_type": "execute_result"
    }
   ],
   "source": [
    "#//*[@id=\"t1\"]/tbody/tr/td/font/table[2]/tbody/tr[4]\n",
    "phone_number = driver.find_element(By.XPATH, '//*[contains(text(), \"Phone\")]/..')\n",
    "phone_number.text.replace('Phone:', \"\").strip()"
   ]
  },
  {
   "cell_type": "code",
   "execution_count": 51,
   "id": "c9e09fe9",
   "metadata": {},
   "outputs": [
    {
     "data": {
      "text/plain": [
       "'Active'"
      ]
     },
     "execution_count": 51,
     "metadata": {},
     "output_type": "execute_result"
    }
   ],
   "source": [
    "#//*[@id=\"t1\"]/tbody/tr/td/font/table[3]/tbody/tr[1]/td[2]/font/font\n",
    "#license_status = driver.find_element(By.XPATH, '//*[@id=\"t1\"]/tbody/tr/td/font/table[3]/tbody/tr[1]/td[2]/font/font')\n",
    "license_status = driver.find_element(By.XPATH, '//*[contains(text(), \"Status\")]/..')\n",
    "license_status.text.replace('Status:', \"\").strip()"
   ]
  },
  {
   "cell_type": "code",
   "execution_count": 55,
   "id": "79ac9dc1",
   "metadata": {},
   "outputs": [
    {
     "data": {
      "text/plain": [
       "'Carrier Type:  Tow Truck Company\\nNumber of Active Tow Trucks:   1\\n\\nAddress Information\\nMailing:\\n10838 DEEPWATER BAY\\nSAN ANTONIO, TX. 78251\\n\\nPhysical:\\n1341 GAYLE LN\\nPOTEET, TX. 78065'"
      ]
     },
     "execution_count": 55,
     "metadata": {},
     "output_type": "execute_result"
    }
   ],
   "source": [
    "#//*[@id=\"t1\"]/tbody/tr/td/font/table[3]/tbody/tr[2]/td[2]\n",
    "#physical_address = driver.find_element(By.XPATH, '//*[@id=\"t1\"]/tbody/tr/td/font/table[3]/tbody/tr[2]/td[2]')\n",
    "physical_address = driver.find_element(By.XPATH, '//*[contains(text(), \"Physical\")]/..')\n",
    "physical_address.text"
   ]
  },
  {
   "cell_type": "code",
   "execution_count": 58,
   "id": "b20917bc",
   "metadata": {},
   "outputs": [
    {
     "name": "stdout",
     "output_type": "stream",
     "text": [
      "1341 GAYLE LN\n",
      "POTEET, TX. 78065\n"
     ]
    }
   ],
   "source": [
    "print(physical_address.text.split(\":\")[-1].strip())"
   ]
  },
  {
   "cell_type": "markdown",
   "id": "2127d847",
   "metadata": {},
   "source": [
    "## Using .apply to find data about SEVERAL tow truck companies\n",
    "The file trucks_subset.csv has information about the trucks, we'll use it to find pages to scrape\n",
    "#### Open up trucks-subset.csv and save it into a dataframe"
   ]
  },
  {
   "cell_type": "code",
   "execution_count": 18,
   "id": "363cd0e1",
   "metadata": {},
   "outputs": [
    {
     "data": {
      "text/html": [
       "<div>\n",
       "<style scoped>\n",
       "    .dataframe tbody tr th:only-of-type {\n",
       "        vertical-align: middle;\n",
       "    }\n",
       "\n",
       "    .dataframe tbody tr th {\n",
       "        vertical-align: top;\n",
       "    }\n",
       "\n",
       "    .dataframe thead th {\n",
       "        text-align: right;\n",
       "    }\n",
       "</style>\n",
       "<table border=\"1\" class=\"dataframe\">\n",
       "  <thead>\n",
       "    <tr style=\"text-align: right;\">\n",
       "      <th></th>\n",
       "      <th>TDLR Number</th>\n",
       "    </tr>\n",
       "  </thead>\n",
       "  <tbody>\n",
       "    <tr>\n",
       "      <th>0</th>\n",
       "      <td>006565540C</td>\n",
       "    </tr>\n",
       "    <tr>\n",
       "      <th>1</th>\n",
       "      <td>0654479VSF</td>\n",
       "    </tr>\n",
       "    <tr>\n",
       "      <th>2</th>\n",
       "      <td>006564940C</td>\n",
       "    </tr>\n",
       "  </tbody>\n",
       "</table>\n",
       "</div>"
      ],
      "text/plain": [
       "  TDLR Number\n",
       "0  006565540C\n",
       "1  0654479VSF\n",
       "2  006564940C"
      ]
     },
     "execution_count": 18,
     "metadata": {},
     "output_type": "execute_result"
    }
   ],
   "source": [
    "import pandas as pd\n",
    "df = pd.read_csv('trucks-subset.csv')\n",
    "df.head()"
   ]
  },
  {
   "cell_type": "markdown",
   "id": "75599d7b",
   "metadata": {},
   "source": [
    "### Use .apply to go through each row of the dataset, printing out information about each tow truck company.\n",
    "* the business name\n",
    "* Phone number\n",
    "* License status\n",
    "* Physical address\n",
    "\n",
    "Just it out for now.\n",
    "\n",
    "* TIP: use .apply and a function\n",
    "* TIP: if you need help with .apply, look at the \"Using apply in pandas\" notebook\n"
   ]
  },
  {
   "cell_type": "code",
   "execution_count": 34,
   "id": "ac6d11b8",
   "metadata": {},
   "outputs": [
    {
     "data": {
      "text/html": [
       "<div>\n",
       "<style scoped>\n",
       "    .dataframe tbody tr th:only-of-type {\n",
       "        vertical-align: middle;\n",
       "    }\n",
       "\n",
       "    .dataframe tbody tr th {\n",
       "        vertical-align: top;\n",
       "    }\n",
       "\n",
       "    .dataframe thead th {\n",
       "        text-align: right;\n",
       "    }\n",
       "</style>\n",
       "<table border=\"1\" class=\"dataframe\">\n",
       "  <thead>\n",
       "    <tr style=\"text-align: right;\">\n",
       "      <th></th>\n",
       "      <th>TDLR Number</th>\n",
       "    </tr>\n",
       "  </thead>\n",
       "  <tbody>\n",
       "    <tr>\n",
       "      <th>0</th>\n",
       "      <td>006565540C</td>\n",
       "    </tr>\n",
       "    <tr>\n",
       "      <th>1</th>\n",
       "      <td>0654479VSF</td>\n",
       "    </tr>\n",
       "    <tr>\n",
       "      <th>2</th>\n",
       "      <td>006564940C</td>\n",
       "    </tr>\n",
       "  </tbody>\n",
       "</table>\n",
       "</div>"
      ],
      "text/plain": [
       "  TDLR Number\n",
       "0  006565540C\n",
       "1  0654479VSF\n",
       "2  006564940C"
      ]
     },
     "execution_count": 34,
     "metadata": {},
     "output_type": "execute_result"
    }
   ],
   "source": [
    "df.head()"
   ]
  },
  {
   "cell_type": "code",
   "execution_count": 78,
   "id": "a5272a5c",
   "metadata": {},
   "outputs": [],
   "source": [
    "def process_truck(row):\n",
    "    driver = webdriver.Chrome()\n",
    "    \n",
    "    # Visit the search page\n",
    "    driver.get('https://www.tdlr.texas.gov/tools_search')\n",
    "    \n",
    "    # Fill out the form and submit it\n",
    "    tdlr_input = driver.find_element(By.XPATH, '//*[@id=\"mcrdata\"]')\n",
    "    #tdlr_input = driver.find_element(By.LINK_TEXT, 'TDLR Number')\n",
    "    tdlr_input.send_keys(row['TDLR Number'])\n",
    "    \n",
    "    driver.find_element(By.XPATH, '//*[@id=\"submit3\"]').click()\n",
    "        \n",
    "    business_name = driver.find_element(By.XPATH, \"//*[contains(text(), 'Name')]/..\")\n",
    "    #print(\"Name\", business_name.text.replace('Name:', \"\").strip())\n",
    "    phone_number = driver.find_element(By.XPATH, '//*[contains(text(), \"Phone\")]/..')\n",
    "    #print(\"Phone\", phone_number.text.replace('Phone:', \"\").strip())\n",
    "    license_status = driver.find_element(By.XPATH, '//*[contains(text(), \"Status\")]/..')\n",
    "    #print(\"Status\", license_status.text)\n",
    "    physical_address = driver.find_element(By.XPATH, '//*[contains(text(), \"Physical\")]/..')\n",
    "    #print(\"Address\", physical_address.text.split(\":\")[-1].strip())\n",
    "    \n",
    "    #print(\"---------\")\n",
    "    \n",
    "    return pd.Series({\n",
    "        'name': business_name.text.replace('Name:', \"\").strip(),\n",
    "        'phone': phone_number.text.replace('Phone:', \"\").strip(),\n",
    "        'status': license_status.text.replace('Status:', \"\").strip(),\n",
    "        'address': physical_address.text.split(\":\")[-1].strip()\n",
    "        \n",
    "    })\n",
    "\n",
    "complete_df = df.apply(process_truck, axis=1).join(df)"
   ]
  },
  {
   "cell_type": "code",
   "execution_count": 71,
   "id": "de945a76",
   "metadata": {},
   "outputs": [
    {
     "data": {
      "text/html": [
       "<div>\n",
       "<style scoped>\n",
       "    .dataframe tbody tr th:only-of-type {\n",
       "        vertical-align: middle;\n",
       "    }\n",
       "\n",
       "    .dataframe tbody tr th {\n",
       "        vertical-align: top;\n",
       "    }\n",
       "\n",
       "    .dataframe thead th {\n",
       "        text-align: right;\n",
       "    }\n",
       "</style>\n",
       "<table border=\"1\" class=\"dataframe\">\n",
       "  <thead>\n",
       "    <tr style=\"text-align: right;\">\n",
       "      <th></th>\n",
       "      <th>name</th>\n",
       "      <th>phone</th>\n",
       "      <th>status</th>\n",
       "      <th>address</th>\n",
       "      <th>TDLR Number</th>\n",
       "    </tr>\n",
       "  </thead>\n",
       "  <tbody>\n",
       "    <tr>\n",
       "      <th>0</th>\n",
       "      <td>H &amp; A TOWING LLC</td>\n",
       "      <td>512-999-8883</td>\n",
       "      <td>Active</td>\n",
       "      <td>11710 JOSEPH CLAYTON DR\\nAUSTIN, TX. 78753</td>\n",
       "      <td>006565540C</td>\n",
       "    </tr>\n",
       "    <tr>\n",
       "      <th>1</th>\n",
       "      <td>24/7TOWINGANDRECOVERYLLC</td>\n",
       "      <td>4325576733</td>\n",
       "      <td>Active</td>\n",
       "      <td>3601 N COUNTY ROAD 1148\\nMIDLAND, TX. 79705</td>\n",
       "      <td>0654479VSF</td>\n",
       "    </tr>\n",
       "    <tr>\n",
       "      <th>2</th>\n",
       "      <td>A&amp;NTOWINGLLC</td>\n",
       "      <td>2106678546</td>\n",
       "      <td>Active</td>\n",
       "      <td>1341 GAYLE LN\\nPOTEET, TX. 78065</td>\n",
       "      <td>006564940C</td>\n",
       "    </tr>\n",
       "  </tbody>\n",
       "</table>\n",
       "</div>"
      ],
      "text/plain": [
       "                       name         phone  status  \\\n",
       "0          H & A TOWING LLC  512-999-8883  Active   \n",
       "1  24/7TOWINGANDRECOVERYLLC    4325576733  Active   \n",
       "2              A&NTOWINGLLC    2106678546  Active   \n",
       "\n",
       "                                       address TDLR Number  \n",
       "0   11710 JOSEPH CLAYTON DR\\nAUSTIN, TX. 78753  006565540C  \n",
       "1  3601 N COUNTY ROAD 1148\\nMIDLAND, TX. 79705  0654479VSF  \n",
       "2             1341 GAYLE LN\\nPOTEET, TX. 78065  006564940C  "
      ]
     },
     "execution_count": 71,
     "metadata": {},
     "output_type": "execute_result"
    }
   ],
   "source": [
    "complete_df"
   ]
  },
  {
   "cell_type": "code",
   "execution_count": 75,
   "id": "4dab9bad",
   "metadata": {},
   "outputs": [],
   "source": [
    "complete_df.to_csv('TXTowTrucks.csv', index=False)"
   ]
  },
  {
   "cell_type": "code",
   "execution_count": 76,
   "id": "7b25525e",
   "metadata": {},
   "outputs": [
    {
     "name": "stdout",
     "output_type": "stream",
     "text": [
      "HW - Mines.ipynb\n",
      "HW - Tow Trucks.ipynb\n",
      "HW - Updated Chicago Building Records Part 1.ipynb\n",
      "HW - Updated Chicago Building Records Part 2.ipynb\n",
      "Juhana - Tow Trucks.ipynb\n",
      "Juhana Texas Tow Trucks Walkthrough.ipynb\n",
      "mines-subset.csv\n",
      "trucks-subset.csv\n",
      "TXTowTrucks.csv\n"
     ]
    }
   ],
   "source": [
    "!ls"
   ]
  },
  {
   "cell_type": "markdown",
   "id": "eb3021b8",
   "metadata": {},
   "source": [
    "### Check for weird columns and rows"
   ]
  },
  {
   "cell_type": "code",
   "execution_count": 77,
   "id": "65fb4d0d",
   "metadata": {},
   "outputs": [
    {
     "data": {
      "text/html": [
       "<div>\n",
       "<style scoped>\n",
       "    .dataframe tbody tr th:only-of-type {\n",
       "        vertical-align: middle;\n",
       "    }\n",
       "\n",
       "    .dataframe tbody tr th {\n",
       "        vertical-align: top;\n",
       "    }\n",
       "\n",
       "    .dataframe thead th {\n",
       "        text-align: right;\n",
       "    }\n",
       "</style>\n",
       "<table border=\"1\" class=\"dataframe\">\n",
       "  <thead>\n",
       "    <tr style=\"text-align: right;\">\n",
       "      <th></th>\n",
       "      <th>name</th>\n",
       "      <th>phone</th>\n",
       "      <th>status</th>\n",
       "      <th>address</th>\n",
       "      <th>TDLR Number</th>\n",
       "    </tr>\n",
       "  </thead>\n",
       "  <tbody>\n",
       "    <tr>\n",
       "      <th>0</th>\n",
       "      <td>H &amp; A TOWING LLC</td>\n",
       "      <td>512-999-8883</td>\n",
       "      <td>Active</td>\n",
       "      <td>11710 JOSEPH CLAYTON DR\\nAUSTIN, TX. 78753</td>\n",
       "      <td>006565540C</td>\n",
       "    </tr>\n",
       "    <tr>\n",
       "      <th>1</th>\n",
       "      <td>24/7TOWINGANDRECOVERYLLC</td>\n",
       "      <td>4325576733</td>\n",
       "      <td>Active</td>\n",
       "      <td>3601 N COUNTY ROAD 1148\\nMIDLAND, TX. 79705</td>\n",
       "      <td>0654479VSF</td>\n",
       "    </tr>\n",
       "    <tr>\n",
       "      <th>2</th>\n",
       "      <td>A&amp;NTOWINGLLC</td>\n",
       "      <td>2106678546</td>\n",
       "      <td>Active</td>\n",
       "      <td>1341 GAYLE LN\\nPOTEET, TX. 78065</td>\n",
       "      <td>006564940C</td>\n",
       "    </tr>\n",
       "  </tbody>\n",
       "</table>\n",
       "</div>"
      ],
      "text/plain": [
       "                       name         phone  status  \\\n",
       "0          H & A TOWING LLC  512-999-8883  Active   \n",
       "1  24/7TOWINGANDRECOVERYLLC    4325576733  Active   \n",
       "2              A&NTOWINGLLC    2106678546  Active   \n",
       "\n",
       "                                       address TDLR Number  \n",
       "0   11710 JOSEPH CLAYTON DR\\nAUSTIN, TX. 78753  006565540C  \n",
       "1  3601 N COUNTY ROAD 1148\\nMIDLAND, TX. 79705  0654479VSF  \n",
       "2             1341 GAYLE LN\\nPOTEET, TX. 78065  006564940C  "
      ]
     },
     "execution_count": 77,
     "metadata": {},
     "output_type": "execute_result"
    }
   ],
   "source": [
    "new_df = pd.read_csv(\"TXTowTrucks.csv\")\n",
    "new_df"
   ]
  },
  {
   "cell_type": "code",
   "execution_count": 83,
   "id": "766c506b",
   "metadata": {},
   "outputs": [
    {
     "name": "stdout",
     "output_type": "stream",
     "text": [
      "Name H & A TOWING LLC\n",
      "Phone 512-999-8883\n",
      "Status Active\n",
      "Address 11710 JOSEPH CLAYTON DR\n",
      "AUSTIN, TX. 78753\n",
      "---------\n",
      "Name 24/7TOWINGANDRECOVERYLLC\n",
      "Phone 4325576733\n",
      "Status Active\n",
      "Address 3601 N COUNTY ROAD 1148\n",
      "MIDLAND, TX. 79705\n",
      "---------\n",
      "Name A&NTOWINGLLC\n",
      "Phone 2106678546\n",
      "Status Active\n",
      "Address 1341 GAYLE LN\n",
      "POTEET, TX. 78065\n",
      "---------\n"
     ]
    }
   ],
   "source": [
    "def process_truck(row):\n",
    "    \n",
    "    # Visit the search page\n",
    "    driver.get('https://www.tdlr.texas.gov/tools_search')\n",
    "    \n",
    "    # Fill out the form and submit it\n",
    "    tdlr_input = driver.find_element(By.XPATH, '//*[@id=\"mcrdata\"]')\n",
    "    #tdlr_input = driver.find_element(By.LINK_TEXT, 'TDLR Number')\n",
    "    tdlr_input.send_keys(row['TDLR Number'])\n",
    "    \n",
    "    driver.find_element(By.XPATH, '//*[@id=\"submit3\"]').click()\n",
    "\n",
    "    \n",
    "    business_name = driver.find_element(By.XPATH, \"//*[contains(text(), 'Name')]/..\")\n",
    "    print(\"Name\", business_name.text.replace('Name:', \"\").strip())\n",
    "    phone_number = driver.find_element(By.XPATH, '//*[contains(text(), \"Phone\")]/..')\n",
    "    print(\"Phone\", phone_number.text.replace('Phone:', \"\").strip())\n",
    "    license_status = driver.find_element(By.XPATH, '//*[contains(text(), \"Status\")]/..')\n",
    "    print(\"Status\", license_status.text.replace('Status:', \"\").strip())\n",
    "    physical_address = driver.find_element(By.XPATH, '//*[contains(text(), \"Physical\")]/..')\n",
    "    print(\"Address\", physical_address.text.split(\":\")[-1].strip())\n",
    "    \n",
    "    print(\"---------\")\n",
    "driver = webdriver.Chrome()\n",
    "df.apply(process_truck, axis=1)\n",
    "driver.close()"
   ]
  },
  {
   "cell_type": "code",
   "execution_count": null,
   "id": "434136e0",
   "metadata": {},
   "outputs": [],
   "source": []
  }
 ],
 "metadata": {
  "kernelspec": {
   "display_name": "Python 3 (ipykernel)",
   "language": "python",
   "name": "python3"
  },
  "language_info": {
   "codemirror_mode": {
    "name": "ipython",
    "version": 3
   },
   "file_extension": ".py",
   "mimetype": "text/x-python",
   "name": "python",
   "nbconvert_exporter": "python",
   "pygments_lexer": "ipython3",
   "version": "3.11.0rc2"
  }
 },
 "nbformat": 4,
 "nbformat_minor": 5
}
